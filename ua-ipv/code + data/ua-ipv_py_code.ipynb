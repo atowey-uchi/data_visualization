{
 "cells": [
  {
   "cell_type": "code",
   "execution_count": 1,
   "id": "6c99d18b",
   "metadata": {},
   "outputs": [],
   "source": [
    "import numpy as np\n",
    "import pandas as pd"
   ]
  },
  {
   "cell_type": "markdown",
   "id": "419127aa",
   "metadata": {},
   "source": [
    "First, let's read in data and create appropriate variables for the different types of IPV and the weight variable.\n",
    "\n",
    "Codebook notes: \n",
    "\n",
    "- d005 = weight\n",
    "- d114 = how often partner drinks\n",
    "- d107 = experience of severe physical violence\n",
    "- d106 = experience of less severe physical violence\n",
    "- d104 = experience of emotional violence\n",
    "- d108 = experience of sexual violence"
   ]
  },
  {
   "cell_type": "code",
   "execution_count": 2,
   "id": "8573724d",
   "metadata": {},
   "outputs": [],
   "source": [
    "# Read data from Stata file\n",
    "data = pd.read_stata('/Users/allisontowey/Downloads/UA_2007_DHS_03022023_024_188135/UAIR51DT/UAIR51FL.DTA', convert_categoricals=False, convert_missing=True)\n",
    "\n",
    "# Replace \".z\" with NaN in d005 column\n",
    "data['d005'] = pd.to_numeric(data['d005'], errors='coerce')\n",
    "\n",
    "# Generate weights. Use concat to reduce fragmentation warning.\n",
    "data = pd.concat([data, pd.Series(data['d005'].values / 1000000, name='wgt')], axis=1)\n",
    "\n",
    "# Subset our data to if the respondent answered how often their husband drinks (d114)\n",
    "data = data[data['d114'].isin([0, 1, 2])]\n",
    "\n",
    "# Combine severe and less severe physical abuse\n",
    "data['severephys'] = ~data['d107'].isin([0, 9])\n",
    "data['lessseverephys'] = ~data['d106'].isin([0, 9])\n",
    "data['anyphys'] = data[['severephys', 'lessseverephys']].any(axis=1)\n",
    "\n",
    "# Grab emotional and sexual abuse\n",
    "data['emo'] = data['d104'] == 1\n",
    "data['sexual'] = data['d108'] == 1\n",
    "\n",
    "# Create combinations using logical operations\n",
    "data['sexual_only'] = ~data['emo'] & data['sexual'] & ~data['anyphys']\n",
    "data['physical_only'] = ~data['emo'] & ~data['sexual'] & data['anyphys']\n",
    "data['emotional_only'] = data['emo'] & ~data['sexual'] & ~data['anyphys']\n",
    "\n",
    "data['all_types'] = data['emo'] & data['sexual'] & data['anyphys']\n",
    "data['phys_sex'] = ~data['emo'] & data['sexual'] & data['anyphys']\n",
    "data['phys_emo'] = data['emo'] & ~data['sexual'] & data['anyphys']\n",
    "data['sex_emo'] = data['emo'] & data['sexual'] & ~data['anyphys']"
   ]
  },
  {
   "cell_type": "code",
   "execution_count": 3,
   "id": "7f313db1",
   "metadata": {},
   "outputs": [],
   "source": [
    "data['d114'] = data['d114'].replace({0: 'never', 2: 'sometimes', 1: 'often'})"
   ]
  },
  {
   "cell_type": "markdown",
   "id": "4533f49a",
   "metadata": {},
   "source": [
    "Let's explore what we have for data by cross tabulating the d114 variable, denoting how often their partner drinks, with their experiences of IPV."
   ]
  },
  {
   "cell_type": "markdown",
   "id": "4b0ba081",
   "metadata": {},
   "source": [
    "First, create a function and an input list that contains all of our created variables."
   ]
  },
  {
   "cell_type": "code",
   "execution_count": 4,
   "id": "886f7350",
   "metadata": {},
   "outputs": [],
   "source": [
    "def create_crosstab(row_vars):\n",
    "    dfs = []\n",
    "    for row_var in row_vars:\n",
    "        crosstab_df = pd.crosstab(data[row_var], data['d114'], values=data['wgt'], aggfunc=sum, dropna=False)\n",
    "        crosstab_df = crosstab_df.loc[True].to_frame().reset_index().rename(columns={True: row_var}).set_index('d114')\n",
    "        dfs.append(crosstab_df)\n",
    "    result = pd.concat(dfs, axis=1)\n",
    "    return result\n"
   ]
  },
  {
   "cell_type": "code",
   "execution_count": 5,
   "id": "45ce56d1",
   "metadata": {},
   "outputs": [
    {
     "data": {
      "text/plain": [
       "['all_types',\n",
       " 'phys_sex',\n",
       " 'phys_emo',\n",
       " 'sex_emo',\n",
       " 'sexual_only',\n",
       " 'physical_only',\n",
       " 'emotional_only']"
      ]
     },
     "execution_count": 5,
     "metadata": {},
     "output_type": "execute_result"
    }
   ],
   "source": [
    "lst = ['all_types', 'phys_sex', 'phys_emo', 'sex_emo', 'sexual_only', 'physical_only', 'emotional_only']\n",
    "lst"
   ]
  },
  {
   "cell_type": "code",
   "execution_count": 6,
   "id": "1af25de4",
   "metadata": {},
   "outputs": [],
   "source": [
    "crosstab = create_crosstab(lst)"
   ]
  },
  {
   "cell_type": "code",
   "execution_count": 7,
   "id": "b6886479",
   "metadata": {},
   "outputs": [
    {
     "data": {
      "text/html": [
       "<div>\n",
       "<style scoped>\n",
       "    .dataframe tbody tr th:only-of-type {\n",
       "        vertical-align: middle;\n",
       "    }\n",
       "\n",
       "    .dataframe tbody tr th {\n",
       "        vertical-align: top;\n",
       "    }\n",
       "\n",
       "    .dataframe thead th {\n",
       "        text-align: right;\n",
       "    }\n",
       "</style>\n",
       "<table border=\"1\" class=\"dataframe\">\n",
       "  <thead>\n",
       "    <tr style=\"text-align: right;\">\n",
       "      <th></th>\n",
       "      <th>all_types</th>\n",
       "      <th>phys_sex</th>\n",
       "      <th>phys_emo</th>\n",
       "      <th>sex_emo</th>\n",
       "      <th>sexual_only</th>\n",
       "      <th>physical_only</th>\n",
       "      <th>emotional_only</th>\n",
       "    </tr>\n",
       "    <tr>\n",
       "      <th>d114</th>\n",
       "      <th></th>\n",
       "      <th></th>\n",
       "      <th></th>\n",
       "      <th></th>\n",
       "      <th></th>\n",
       "      <th></th>\n",
       "      <th></th>\n",
       "    </tr>\n",
       "  </thead>\n",
       "  <tbody>\n",
       "    <tr>\n",
       "      <th>never</th>\n",
       "      <td>NaN</td>\n",
       "      <td>NaN</td>\n",
       "      <td>8.164097</td>\n",
       "      <td>NaN</td>\n",
       "      <td>NaN</td>\n",
       "      <td>2.333086</td>\n",
       "      <td>20.912317</td>\n",
       "    </tr>\n",
       "    <tr>\n",
       "      <th>often</th>\n",
       "      <td>37.136268</td>\n",
       "      <td>5.620653</td>\n",
       "      <td>86.592570</td>\n",
       "      <td>1.725297</td>\n",
       "      <td>0.770897</td>\n",
       "      <td>9.892501</td>\n",
       "      <td>38.826943</td>\n",
       "    </tr>\n",
       "    <tr>\n",
       "      <th>sometimes</th>\n",
       "      <td>17.134439</td>\n",
       "      <td>2.402444</td>\n",
       "      <td>96.649553</td>\n",
       "      <td>0.331862</td>\n",
       "      <td>1.452883</td>\n",
       "      <td>18.583953</td>\n",
       "      <td>151.426117</td>\n",
       "    </tr>\n",
       "  </tbody>\n",
       "</table>\n",
       "</div>"
      ],
      "text/plain": [
       "           all_types  phys_sex   phys_emo   sex_emo  sexual_only  \\\n",
       "d114                                                               \n",
       "never            NaN       NaN   8.164097       NaN          NaN   \n",
       "often      37.136268  5.620653  86.592570  1.725297     0.770897   \n",
       "sometimes  17.134439  2.402444  96.649553  0.331862     1.452883   \n",
       "\n",
       "           physical_only  emotional_only  \n",
       "d114                                      \n",
       "never           2.333086       20.912317  \n",
       "often           9.892501       38.826943  \n",
       "sometimes      18.583953      151.426117  "
      ]
     },
     "execution_count": 7,
     "metadata": {},
     "output_type": "execute_result"
    }
   ],
   "source": [
    "crosstab"
   ]
  },
  {
   "cell_type": "markdown",
   "id": "4382ff7f",
   "metadata": {},
   "source": [
    "Now we have the weighted frequency values for all types of IPV separated by how often their partner drinks. We want to know the total weighted sum for, in total, how often partners drink."
   ]
  },
  {
   "cell_type": "code",
   "execution_count": 8,
   "id": "554daa0d",
   "metadata": {},
   "outputs": [
    {
     "data": {
      "text/html": [
       "<div>\n",
       "<style scoped>\n",
       "    .dataframe tbody tr th:only-of-type {\n",
       "        vertical-align: middle;\n",
       "    }\n",
       "\n",
       "    .dataframe tbody tr th {\n",
       "        vertical-align: top;\n",
       "    }\n",
       "\n",
       "    .dataframe thead th {\n",
       "        text-align: right;\n",
       "    }\n",
       "</style>\n",
       "<table border=\"1\" class=\"dataframe\">\n",
       "  <thead>\n",
       "    <tr style=\"text-align: right;\">\n",
       "      <th></th>\n",
       "      <th>total</th>\n",
       "    </tr>\n",
       "    <tr>\n",
       "      <th>d114</th>\n",
       "      <th></th>\n",
       "    </tr>\n",
       "  </thead>\n",
       "  <tbody>\n",
       "    <tr>\n",
       "      <th>never</th>\n",
       "      <td>436.457147</td>\n",
       "    </tr>\n",
       "    <tr>\n",
       "      <th>often</th>\n",
       "      <td>248.805814</td>\n",
       "    </tr>\n",
       "    <tr>\n",
       "      <th>sometimes</th>\n",
       "      <td>1163.525497</td>\n",
       "    </tr>\n",
       "  </tbody>\n",
       "</table>\n",
       "</div>"
      ],
      "text/plain": [
       "                 total\n",
       "d114                  \n",
       "never       436.457147\n",
       "often       248.805814\n",
       "sometimes  1163.525497"
      ]
     },
     "execution_count": 8,
     "metadata": {},
     "output_type": "execute_result"
    }
   ],
   "source": [
    "weighted_counts = pd.DataFrame(data.groupby('d114')['wgt'].sum())\n",
    "weighted_counts = weighted_counts.rename(columns={'wgt': 'total'})\n",
    "weighted_counts"
   ]
  },
  {
   "cell_type": "markdown",
   "id": "d09f051c",
   "metadata": {},
   "source": [
    "Concatenate that with our values for all of the IPV types individually."
   ]
  },
  {
   "cell_type": "code",
   "execution_count": 9,
   "id": "486639d2",
   "metadata": {},
   "outputs": [],
   "source": [
    "df_withtotal = pd.concat([crosstab, weighted_counts], axis=1)"
   ]
  },
  {
   "cell_type": "code",
   "execution_count": 10,
   "id": "83d3b305",
   "metadata": {},
   "outputs": [
    {
     "data": {
      "text/html": [
       "<div>\n",
       "<style scoped>\n",
       "    .dataframe tbody tr th:only-of-type {\n",
       "        vertical-align: middle;\n",
       "    }\n",
       "\n",
       "    .dataframe tbody tr th {\n",
       "        vertical-align: top;\n",
       "    }\n",
       "\n",
       "    .dataframe thead th {\n",
       "        text-align: right;\n",
       "    }\n",
       "</style>\n",
       "<table border=\"1\" class=\"dataframe\">\n",
       "  <thead>\n",
       "    <tr style=\"text-align: right;\">\n",
       "      <th></th>\n",
       "      <th>all_types</th>\n",
       "      <th>phys_sex</th>\n",
       "      <th>phys_emo</th>\n",
       "      <th>sex_emo</th>\n",
       "      <th>sexual_only</th>\n",
       "      <th>physical_only</th>\n",
       "      <th>emotional_only</th>\n",
       "      <th>total</th>\n",
       "    </tr>\n",
       "    <tr>\n",
       "      <th>d114</th>\n",
       "      <th></th>\n",
       "      <th></th>\n",
       "      <th></th>\n",
       "      <th></th>\n",
       "      <th></th>\n",
       "      <th></th>\n",
       "      <th></th>\n",
       "      <th></th>\n",
       "    </tr>\n",
       "  </thead>\n",
       "  <tbody>\n",
       "    <tr>\n",
       "      <th>never</th>\n",
       "      <td>0.000000</td>\n",
       "      <td>0.000000</td>\n",
       "      <td>8.164097</td>\n",
       "      <td>0.000000</td>\n",
       "      <td>0.000000</td>\n",
       "      <td>2.333086</td>\n",
       "      <td>20.912317</td>\n",
       "      <td>436.457147</td>\n",
       "    </tr>\n",
       "    <tr>\n",
       "      <th>often</th>\n",
       "      <td>37.136268</td>\n",
       "      <td>5.620653</td>\n",
       "      <td>86.592570</td>\n",
       "      <td>1.725297</td>\n",
       "      <td>0.770897</td>\n",
       "      <td>9.892501</td>\n",
       "      <td>38.826943</td>\n",
       "      <td>248.805814</td>\n",
       "    </tr>\n",
       "    <tr>\n",
       "      <th>sometimes</th>\n",
       "      <td>17.134439</td>\n",
       "      <td>2.402444</td>\n",
       "      <td>96.649553</td>\n",
       "      <td>0.331862</td>\n",
       "      <td>1.452883</td>\n",
       "      <td>18.583953</td>\n",
       "      <td>151.426117</td>\n",
       "      <td>1163.525497</td>\n",
       "    </tr>\n",
       "  </tbody>\n",
       "</table>\n",
       "</div>"
      ],
      "text/plain": [
       "           all_types  phys_sex   phys_emo   sex_emo  sexual_only  \\\n",
       "d114                                                               \n",
       "never       0.000000  0.000000   8.164097  0.000000     0.000000   \n",
       "often      37.136268  5.620653  86.592570  1.725297     0.770897   \n",
       "sometimes  17.134439  2.402444  96.649553  0.331862     1.452883   \n",
       "\n",
       "           physical_only  emotional_only        total  \n",
       "d114                                                   \n",
       "never           2.333086       20.912317   436.457147  \n",
       "often           9.892501       38.826943   248.805814  \n",
       "sometimes      18.583953      151.426117  1163.525497  "
      ]
     },
     "execution_count": 10,
     "metadata": {},
     "output_type": "execute_result"
    }
   ],
   "source": [
    "df_withtotal = df_withtotal.fillna(0)\n",
    "df_withtotal"
   ]
  },
  {
   "cell_type": "markdown",
   "id": "84a6a31f",
   "metadata": {},
   "source": [
    "Now we want to see how many women in each 'partner drink' category do not experience any violence. Add that to the dataframe."
   ]
  },
  {
   "cell_type": "code",
   "execution_count": 11,
   "id": "739f22bf",
   "metadata": {},
   "outputs": [
    {
     "data": {
      "text/html": [
       "<div>\n",
       "<style scoped>\n",
       "    .dataframe tbody tr th:only-of-type {\n",
       "        vertical-align: middle;\n",
       "    }\n",
       "\n",
       "    .dataframe tbody tr th {\n",
       "        vertical-align: top;\n",
       "    }\n",
       "\n",
       "    .dataframe thead th {\n",
       "        text-align: right;\n",
       "    }\n",
       "</style>\n",
       "<table border=\"1\" class=\"dataframe\">\n",
       "  <thead>\n",
       "    <tr style=\"text-align: right;\">\n",
       "      <th></th>\n",
       "      <th>all_types</th>\n",
       "      <th>phys_sex</th>\n",
       "      <th>phys_emo</th>\n",
       "      <th>sex_emo</th>\n",
       "      <th>sexual_only</th>\n",
       "      <th>physical_only</th>\n",
       "      <th>emotional_only</th>\n",
       "      <th>total</th>\n",
       "      <th>none</th>\n",
       "    </tr>\n",
       "    <tr>\n",
       "      <th>d114</th>\n",
       "      <th></th>\n",
       "      <th></th>\n",
       "      <th></th>\n",
       "      <th></th>\n",
       "      <th></th>\n",
       "      <th></th>\n",
       "      <th></th>\n",
       "      <th></th>\n",
       "      <th></th>\n",
       "    </tr>\n",
       "  </thead>\n",
       "  <tbody>\n",
       "    <tr>\n",
       "      <th>never</th>\n",
       "      <td>0.000000</td>\n",
       "      <td>0.000000</td>\n",
       "      <td>8.164097</td>\n",
       "      <td>0.000000</td>\n",
       "      <td>0.000000</td>\n",
       "      <td>2.333086</td>\n",
       "      <td>20.912317</td>\n",
       "      <td>436.457147</td>\n",
       "      <td>405.047647</td>\n",
       "    </tr>\n",
       "    <tr>\n",
       "      <th>often</th>\n",
       "      <td>37.136268</td>\n",
       "      <td>5.620653</td>\n",
       "      <td>86.592570</td>\n",
       "      <td>1.725297</td>\n",
       "      <td>0.770897</td>\n",
       "      <td>9.892501</td>\n",
       "      <td>38.826943</td>\n",
       "      <td>248.805814</td>\n",
       "      <td>68.240685</td>\n",
       "    </tr>\n",
       "    <tr>\n",
       "      <th>sometimes</th>\n",
       "      <td>17.134439</td>\n",
       "      <td>2.402444</td>\n",
       "      <td>96.649553</td>\n",
       "      <td>0.331862</td>\n",
       "      <td>1.452883</td>\n",
       "      <td>18.583953</td>\n",
       "      <td>151.426117</td>\n",
       "      <td>1163.525497</td>\n",
       "      <td>875.544246</td>\n",
       "    </tr>\n",
       "  </tbody>\n",
       "</table>\n",
       "</div>"
      ],
      "text/plain": [
       "           all_types  phys_sex   phys_emo   sex_emo  sexual_only  \\\n",
       "d114                                                               \n",
       "never       0.000000  0.000000   8.164097  0.000000     0.000000   \n",
       "often      37.136268  5.620653  86.592570  1.725297     0.770897   \n",
       "sometimes  17.134439  2.402444  96.649553  0.331862     1.452883   \n",
       "\n",
       "           physical_only  emotional_only        total        none  \n",
       "d114                                                               \n",
       "never           2.333086       20.912317   436.457147  405.047647  \n",
       "often           9.892501       38.826943   248.805814   68.240685  \n",
       "sometimes      18.583953      151.426117  1163.525497  875.544246  "
      ]
     },
     "execution_count": 11,
     "metadata": {},
     "output_type": "execute_result"
    }
   ],
   "source": [
    "df_withtotal['none'] = df_withtotal['total'] - df_withtotal.loc[:, df_withtotal.columns != 'total'].sum(axis=1)\n",
    "df_withtotal"
   ]
  },
  {
   "cell_type": "markdown",
   "id": "9436c6d5",
   "metadata": {},
   "source": [
    "We have 1000 boxes to display this information in our visualization. Let's see how many boxes per IPV/'partner drinks' group we need."
   ]
  },
  {
   "cell_type": "code",
   "execution_count": 12,
   "id": "fa46b7e2",
   "metadata": {},
   "outputs": [],
   "source": [
    "#Make sure we are working with float values for all columns\n",
    "df_withtotal = df_withtotal.astype(float)"
   ]
  },
  {
   "cell_type": "code",
   "execution_count": 13,
   "id": "1a1637a0",
   "metadata": {},
   "outputs": [],
   "source": [
    "#Create a copy of the dataframe so we can input percentages of the total\n",
    "df_percent = df_withtotal.copy()"
   ]
  },
  {
   "cell_type": "markdown",
   "id": "70d9c057",
   "metadata": {},
   "source": [
    "Now we want to see how many dots (squares) for our visualization. First, we can calculate the percentage of the total sample each crosstab value is and then multiple that by our total number of boxes (1000)."
   ]
  },
  {
   "cell_type": "code",
   "execution_count": 14,
   "id": "1088f74b",
   "metadata": {},
   "outputs": [],
   "source": [
    "for row in df_withtotal:\n",
    "    df_withtotal['total_percent'] = df_withtotal['total']/1848.79\n",
    "    df_withtotal['total_dots'] = df_withtotal['total_percent']*1000"
   ]
  },
  {
   "cell_type": "code",
   "execution_count": 15,
   "id": "b3da987a",
   "metadata": {},
   "outputs": [],
   "source": [
    "for col in df_withtotal.columns:\n",
    "    if col != 'total' and col != 'total_dots' and col != 'total_percent':\n",
    "        df_percent[col] = ((df_withtotal[col]/df_withtotal['total']) * df_withtotal['total_percent']*1000)\n"
   ]
  },
  {
   "cell_type": "code",
   "execution_count": 16,
   "id": "a015c2de",
   "metadata": {},
   "outputs": [
    {
     "data": {
      "text/html": [
       "<div>\n",
       "<style scoped>\n",
       "    .dataframe tbody tr th:only-of-type {\n",
       "        vertical-align: middle;\n",
       "    }\n",
       "\n",
       "    .dataframe tbody tr th {\n",
       "        vertical-align: top;\n",
       "    }\n",
       "\n",
       "    .dataframe thead th {\n",
       "        text-align: right;\n",
       "    }\n",
       "</style>\n",
       "<table border=\"1\" class=\"dataframe\">\n",
       "  <thead>\n",
       "    <tr style=\"text-align: right;\">\n",
       "      <th></th>\n",
       "      <th>all_types</th>\n",
       "      <th>phys_sex</th>\n",
       "      <th>phys_emo</th>\n",
       "      <th>sex_emo</th>\n",
       "      <th>sexual_only</th>\n",
       "      <th>physical_only</th>\n",
       "      <th>emotional_only</th>\n",
       "      <th>total</th>\n",
       "      <th>none</th>\n",
       "    </tr>\n",
       "    <tr>\n",
       "      <th>d114</th>\n",
       "      <th></th>\n",
       "      <th></th>\n",
       "      <th></th>\n",
       "      <th></th>\n",
       "      <th></th>\n",
       "      <th></th>\n",
       "      <th></th>\n",
       "      <th></th>\n",
       "      <th></th>\n",
       "    </tr>\n",
       "  </thead>\n",
       "  <tbody>\n",
       "    <tr>\n",
       "      <th>never</th>\n",
       "      <td>0.000000</td>\n",
       "      <td>0.000000</td>\n",
       "      <td>4.415914</td>\n",
       "      <td>0.000000</td>\n",
       "      <td>0.000000</td>\n",
       "      <td>1.261953</td>\n",
       "      <td>11.311353</td>\n",
       "      <td>436.457147</td>\n",
       "      <td>219.087969</td>\n",
       "    </tr>\n",
       "    <tr>\n",
       "      <th>often</th>\n",
       "      <td>20.086796</td>\n",
       "      <td>3.040179</td>\n",
       "      <td>46.837429</td>\n",
       "      <td>0.933203</td>\n",
       "      <td>0.416974</td>\n",
       "      <td>5.350798</td>\n",
       "      <td>21.001273</td>\n",
       "      <td>248.805814</td>\n",
       "      <td>36.910999</td>\n",
       "    </tr>\n",
       "    <tr>\n",
       "      <th>sometimes</th>\n",
       "      <td>9.267921</td>\n",
       "      <td>1.299468</td>\n",
       "      <td>52.277194</td>\n",
       "      <td>0.179502</td>\n",
       "      <td>0.785856</td>\n",
       "      <td>10.051955</td>\n",
       "      <td>81.905526</td>\n",
       "      <td>1163.525497</td>\n",
       "      <td>473.576905</td>\n",
       "    </tr>\n",
       "  </tbody>\n",
       "</table>\n",
       "</div>"
      ],
      "text/plain": [
       "           all_types  phys_sex   phys_emo   sex_emo  sexual_only  \\\n",
       "d114                                                               \n",
       "never       0.000000  0.000000   4.415914  0.000000     0.000000   \n",
       "often      20.086796  3.040179  46.837429  0.933203     0.416974   \n",
       "sometimes   9.267921  1.299468  52.277194  0.179502     0.785856   \n",
       "\n",
       "           physical_only  emotional_only        total        none  \n",
       "d114                                                               \n",
       "never           1.261953       11.311353   436.457147  219.087969  \n",
       "often           5.350798       21.001273   248.805814   36.910999  \n",
       "sometimes      10.051955       81.905526  1163.525497  473.576905  "
      ]
     },
     "execution_count": 16,
     "metadata": {},
     "output_type": "execute_result"
    }
   ],
   "source": [
    "df_percent"
   ]
  },
  {
   "cell_type": "markdown",
   "id": "fca5468c",
   "metadata": {},
   "source": [
    "Now we have a split of how many boxes we need for each group. Let's round to even integers. When we have boxes that represent more than 0 women but not enough to constitue 1 box, we still represent as 1 box. "
   ]
  },
  {
   "cell_type": "code",
   "execution_count": 17,
   "id": "2c82abf4",
   "metadata": {},
   "outputs": [],
   "source": [
    "df = df_percent.applymap(lambda x: np.ceil(x) if x > 0 and x < .5 else np.round(x))\n"
   ]
  },
  {
   "cell_type": "code",
   "execution_count": 19,
   "id": "0d9c3f18",
   "metadata": {},
   "outputs": [
    {
     "data": {
      "text/html": [
       "<div>\n",
       "<style scoped>\n",
       "    .dataframe tbody tr th:only-of-type {\n",
       "        vertical-align: middle;\n",
       "    }\n",
       "\n",
       "    .dataframe tbody tr th {\n",
       "        vertical-align: top;\n",
       "    }\n",
       "\n",
       "    .dataframe thead th {\n",
       "        text-align: right;\n",
       "    }\n",
       "</style>\n",
       "<table border=\"1\" class=\"dataframe\">\n",
       "  <thead>\n",
       "    <tr style=\"text-align: right;\">\n",
       "      <th></th>\n",
       "      <th>all_types</th>\n",
       "      <th>phys_sex</th>\n",
       "      <th>phys_emo</th>\n",
       "      <th>sex_emo</th>\n",
       "      <th>sexual_only</th>\n",
       "      <th>physical_only</th>\n",
       "      <th>emotional_only</th>\n",
       "      <th>none</th>\n",
       "    </tr>\n",
       "    <tr>\n",
       "      <th>d114</th>\n",
       "      <th></th>\n",
       "      <th></th>\n",
       "      <th></th>\n",
       "      <th></th>\n",
       "      <th></th>\n",
       "      <th></th>\n",
       "      <th></th>\n",
       "      <th></th>\n",
       "    </tr>\n",
       "  </thead>\n",
       "  <tbody>\n",
       "    <tr>\n",
       "      <th>never</th>\n",
       "      <td>0</td>\n",
       "      <td>0</td>\n",
       "      <td>4</td>\n",
       "      <td>0</td>\n",
       "      <td>0</td>\n",
       "      <td>1</td>\n",
       "      <td>11</td>\n",
       "      <td>219</td>\n",
       "    </tr>\n",
       "    <tr>\n",
       "      <th>often</th>\n",
       "      <td>20</td>\n",
       "      <td>3</td>\n",
       "      <td>47</td>\n",
       "      <td>1</td>\n",
       "      <td>1</td>\n",
       "      <td>5</td>\n",
       "      <td>21</td>\n",
       "      <td>37</td>\n",
       "    </tr>\n",
       "    <tr>\n",
       "      <th>sometimes</th>\n",
       "      <td>9</td>\n",
       "      <td>1</td>\n",
       "      <td>52</td>\n",
       "      <td>1</td>\n",
       "      <td>1</td>\n",
       "      <td>10</td>\n",
       "      <td>82</td>\n",
       "      <td>474</td>\n",
       "    </tr>\n",
       "  </tbody>\n",
       "</table>\n",
       "</div>"
      ],
      "text/plain": [
       "           all_types  phys_sex  phys_emo  sex_emo  sexual_only  physical_only  \\\n",
       "d114                                                                            \n",
       "never              0         0         4        0            0              1   \n",
       "often             20         3        47        1            1              5   \n",
       "sometimes          9         1        52        1            1             10   \n",
       "\n",
       "           emotional_only  none  \n",
       "d114                             \n",
       "never                  11   219  \n",
       "often                  21    37  \n",
       "sometimes              82   474  "
      ]
     },
     "execution_count": 19,
     "metadata": {},
     "output_type": "execute_result"
    }
   ],
   "source": [
    "df = df.astype(int)\n",
    "df = df.drop(columns=['total'])\n",
    "df"
   ]
  },
  {
   "cell_type": "markdown",
   "id": "456f06bd",
   "metadata": {},
   "source": [
    "Done! Now we have the number of boxes needed to visualize the data. (See the HTML/JS documentation for replication code of viz)"
   ]
  }
 ],
 "metadata": {
  "kernelspec": {
   "display_name": "Python 3 (ipykernel)",
   "language": "python",
   "name": "python3"
  },
  "language_info": {
   "codemirror_mode": {
    "name": "ipython",
    "version": 3
   },
   "file_extension": ".py",
   "mimetype": "text/x-python",
   "name": "python",
   "nbconvert_exporter": "python",
   "pygments_lexer": "ipython3",
   "version": "3.8.8"
  }
 },
 "nbformat": 4,
 "nbformat_minor": 5
}
